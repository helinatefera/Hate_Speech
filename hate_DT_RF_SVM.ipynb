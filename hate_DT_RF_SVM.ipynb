{
  "cells": [
    {
      "cell_type": "code",
      "execution_count": 1,
      "metadata": {
        "colab": {
          "base_uri": "https://localhost:8080/",
          "height": 36
        },
        "id": "8RvQWbvdawDb",
        "outputId": "a14acb7a-1a61-4021-d92b-a0c57360288f"
      },
      "outputs": [
        {
          "data": {
            "text/plain": [
              "'/home/helina/Downloads/twitter.csv'"
            ]
          },
          "execution_count": 1,
          "metadata": {},
          "output_type": "execute_result"
        }
      ],
      "source": [
        "import os\n",
        "import requests\n",
        "\n",
        "def download_dataset(url, file_name):\n",
        "  \"\"\"Downloads a dataset from GitHub.\n",
        "\n",
        "  Args:\n",
        "    url: The URL of the dataset on GitHub.\n",
        "    file_name: The name of the file to save the dataset to.\n",
        "\n",
        "  Returns:\n",
        "    # The path to the downloaded file.\n",
        "  \"\"\"\n",
        "\n",
        "  response = requests.get(url, stream=True)\n",
        "  file_path = os.path.join(os.getcwd(), file_name)\n",
        "  with open(file_path, 'wb') as f:\n",
        "    for chunk in response.iter_content(chunk_size=1024):\n",
        "      f.write(chunk)\n",
        "\n",
        "  return file_path\n",
        "\n",
        "DATASET_PATH = \"https://raw.githubusercontent.com/amankharwal/Website-data/master/twitter.csv\"\n",
        "download_dataset(DATASET_PATH, \"twitter.csv\")"
      ]
    },
    {
      "cell_type": "code",
      "execution_count": 9,
      "metadata": {},
      "outputs": [
        {
          "name": "stdout",
          "output_type": "stream",
          "text": [
            "Defaulting to user installation because normal site-packages is not writeable\n",
            "Collecting scikit-learn\n",
            "  Downloading scikit_learn-1.4.0-1-cp310-cp310-manylinux_2_17_x86_64.manylinux2014_x86_64.whl (12.1 MB)\n",
            "\u001b[2K     \u001b[90m━━━━━━━━━━━━━━━━━━━━━━━━━━━━━━━━━━━━━━━\u001b[0m \u001b[32m12.1/12.1 MB\u001b[0m \u001b[31m109.8 kB/s\u001b[0m eta \u001b[36m0:00:00\u001b[0m00:01\u001b[0m00:03\u001b[0m\n",
            "\u001b[?25hCollecting scipy>=1.6.0\n",
            "  Downloading scipy-1.12.0-cp310-cp310-manylinux_2_17_x86_64.manylinux2014_x86_64.whl (38.4 MB)\n",
            "\u001b[2K     \u001b[90m━━━━━━━━━━━━━━━━━━━━━━━━━━━━━━━━━━━━━━━━\u001b[0m \u001b[32m38.4/38.4 MB\u001b[0m \u001b[31m76.9 kB/s\u001b[0m eta \u001b[36m0:00:00\u001b[0m00:01\u001b[0m00:12\u001b[0m\n",
            "\u001b[?25hRequirement already satisfied: joblib>=1.2.0 in /home/helina/.local/lib/python3.10/site-packages (from scikit-learn) (1.3.2)\n",
            "Collecting threadpoolctl>=2.0.0\n",
            "  Downloading threadpoolctl-3.2.0-py3-none-any.whl (15 kB)\n",
            "Requirement already satisfied: numpy<2.0,>=1.19.5 in /home/helina/.local/lib/python3.10/site-packages (from scikit-learn) (1.26.2)\n",
            "Installing collected packages: threadpoolctl, scipy, scikit-learn\n",
            "Successfully installed scikit-learn-1.4.0 scipy-1.12.0 threadpoolctl-3.2.0\n"
          ]
        }
      ],
      "source": [
        "!pip install scikit-learn\n"
      ]
    },
    {
      "cell_type": "code",
      "execution_count": 55,
      "metadata": {
        "id": "PErABJKNgsuS"
      },
      "outputs": [],
      "source": [
        "from nltk.util import pr\n",
        "import matplotlib.pyplot as plt\n",
        "import nltk\n",
        "import seaborn as sns\n",
        "from nltk.stem import PorterStemmer\n",
        "import pandas as pd\n",
        "import numpy as np\n",
        "from sklearn.feature_extraction.text import CountVectorizer\n",
        "from sklearn.model_selection import train_test_split\n",
        "from sklearn.tree import DecisionTreeClassifier\n",
        "from sklearn.svm import SVC\n",
        "from sklearn.ensemble import RandomForestClassifier\n",
        "import re\n",
        "import nltk\n",
        "from sklearn.metrics import accuracy_score, classification_report, confusion_matrix\n",
        "from sklearn.feature_extraction.text import TfidfVectorizer\n",
        "\n",
        "from gtts import gTTS\n",
        "from IPython.display import Audio, display"
      ]
    },
    {
      "cell_type": "markdown",
      "metadata": {
        "id": "v8eIAY28tUYD"
      },
      "source": []
    },
    {
      "cell_type": "code",
      "execution_count": 11,
      "metadata": {
        "colab": {
          "base_uri": "https://localhost:8080/"
        },
        "id": "qbu4hgM5cyoT",
        "outputId": "a1a5316d-5b8e-4227-cdf4-7dfa7078ae75"
      },
      "outputs": [
        {
          "name": "stdout",
          "output_type": "stream",
          "text": [
            "   Unnamed: 0  count  hate_speech  offensive_language  neither  class  \\\n",
            "0           0      3            0                   0        3      2   \n",
            "1           1      3            0                   3        0      1   \n",
            "2           2      3            0                   3        0      1   \n",
            "3           3      3            0                   2        1      1   \n",
            "4           4      6            0                   6        0      1   \n",
            "\n",
            "                                               tweet  \n",
            "0  !!! RT @mayasolovely: As a woman you shouldn't...  \n",
            "1  !!!!! RT @mleew17: boy dats cold...tyga dwn ba...  \n",
            "2  !!!!!!! RT @UrKindOfBrand Dawg!!!! RT @80sbaby...  \n",
            "3  !!!!!!!!! RT @C_G_Anderson: @viva_based she lo...  \n",
            "4  !!!!!!!!!!!!! RT @ShenikaRoberts: The shit you...  \n"
          ]
        }
      ],
      "source": [
        "\n",
        "\n",
        "stemmer = nltk.SnowballStemmer(\"english\")\n",
        "from nltk.corpus import stopwords\n",
        "import string\n",
        "data = pd.read_csv(\"twitter.csv\")\n",
        "print(data.head())"
      ]
    },
    {
      "cell_type": "code",
      "execution_count": 12,
      "metadata": {
        "id": "xdhLIWgLdDxm"
      },
      "outputs": [],
      "source": [
        "#Labeling\n",
        "data[\"labels\"] = data[\"class\"].map({0: \"Hate Speech\",\n",
        "                                    1: \"Offensive Language\",\n",
        "                                    2: \"No Hate and Offensive\"})"
      ]
    },
    {
      "cell_type": "code",
      "execution_count": 13,
      "metadata": {
        "colab": {
          "base_uri": "https://localhost:8080/",
          "height": 424
        },
        "id": "GRUTf07HdHWH",
        "outputId": "f27e1d1f-d23a-4e5c-b604-1e0e569436ab"
      },
      "outputs": [
        {
          "data": {
            "text/html": [
              "<div>\n",
              "<style scoped>\n",
              "    .dataframe tbody tr th:only-of-type {\n",
              "        vertical-align: middle;\n",
              "    }\n",
              "\n",
              "    .dataframe tbody tr th {\n",
              "        vertical-align: top;\n",
              "    }\n",
              "\n",
              "    .dataframe thead th {\n",
              "        text-align: right;\n",
              "    }\n",
              "</style>\n",
              "<table border=\"1\" class=\"dataframe\">\n",
              "  <thead>\n",
              "    <tr style=\"text-align: right;\">\n",
              "      <th></th>\n",
              "      <th>tweet</th>\n",
              "      <th>labels</th>\n",
              "    </tr>\n",
              "  </thead>\n",
              "  <tbody>\n",
              "    <tr>\n",
              "      <th>0</th>\n",
              "      <td>!!! RT @mayasolovely: As a woman you shouldn't...</td>\n",
              "      <td>No Hate and Offensive</td>\n",
              "    </tr>\n",
              "    <tr>\n",
              "      <th>1</th>\n",
              "      <td>!!!!! RT @mleew17: boy dats cold...tyga dwn ba...</td>\n",
              "      <td>Offensive Language</td>\n",
              "    </tr>\n",
              "    <tr>\n",
              "      <th>2</th>\n",
              "      <td>!!!!!!! RT @UrKindOfBrand Dawg!!!! RT @80sbaby...</td>\n",
              "      <td>Offensive Language</td>\n",
              "    </tr>\n",
              "    <tr>\n",
              "      <th>3</th>\n",
              "      <td>!!!!!!!!! RT @C_G_Anderson: @viva_based she lo...</td>\n",
              "      <td>Offensive Language</td>\n",
              "    </tr>\n",
              "    <tr>\n",
              "      <th>4</th>\n",
              "      <td>!!!!!!!!!!!!! RT @ShenikaRoberts: The shit you...</td>\n",
              "      <td>Offensive Language</td>\n",
              "    </tr>\n",
              "    <tr>\n",
              "      <th>...</th>\n",
              "      <td>...</td>\n",
              "      <td>...</td>\n",
              "    </tr>\n",
              "    <tr>\n",
              "      <th>24778</th>\n",
              "      <td>you's a muthaf***in lie &amp;#8220;@LifeAsKing: @2...</td>\n",
              "      <td>Offensive Language</td>\n",
              "    </tr>\n",
              "    <tr>\n",
              "      <th>24779</th>\n",
              "      <td>you've gone and broke the wrong heart baby, an...</td>\n",
              "      <td>No Hate and Offensive</td>\n",
              "    </tr>\n",
              "    <tr>\n",
              "      <th>24780</th>\n",
              "      <td>young buck wanna eat!!.. dat nigguh like I ain...</td>\n",
              "      <td>Offensive Language</td>\n",
              "    </tr>\n",
              "    <tr>\n",
              "      <th>24781</th>\n",
              "      <td>youu got wild bitches tellin you lies</td>\n",
              "      <td>Offensive Language</td>\n",
              "    </tr>\n",
              "    <tr>\n",
              "      <th>24782</th>\n",
              "      <td>~~Ruffled | Ntac Eileen Dahlia - Beautiful col...</td>\n",
              "      <td>No Hate and Offensive</td>\n",
              "    </tr>\n",
              "  </tbody>\n",
              "</table>\n",
              "<p>24783 rows × 2 columns</p>\n",
              "</div>"
            ],
            "text/plain": [
              "                                                   tweet  \\\n",
              "0      !!! RT @mayasolovely: As a woman you shouldn't...   \n",
              "1      !!!!! RT @mleew17: boy dats cold...tyga dwn ba...   \n",
              "2      !!!!!!! RT @UrKindOfBrand Dawg!!!! RT @80sbaby...   \n",
              "3      !!!!!!!!! RT @C_G_Anderson: @viva_based she lo...   \n",
              "4      !!!!!!!!!!!!! RT @ShenikaRoberts: The shit you...   \n",
              "...                                                  ...   \n",
              "24778  you's a muthaf***in lie &#8220;@LifeAsKing: @2...   \n",
              "24779  you've gone and broke the wrong heart baby, an...   \n",
              "24780  young buck wanna eat!!.. dat nigguh like I ain...   \n",
              "24781              youu got wild bitches tellin you lies   \n",
              "24782  ~~Ruffled | Ntac Eileen Dahlia - Beautiful col...   \n",
              "\n",
              "                      labels  \n",
              "0      No Hate and Offensive  \n",
              "1         Offensive Language  \n",
              "2         Offensive Language  \n",
              "3         Offensive Language  \n",
              "4         Offensive Language  \n",
              "...                      ...  \n",
              "24778     Offensive Language  \n",
              "24779  No Hate and Offensive  \n",
              "24780     Offensive Language  \n",
              "24781     Offensive Language  \n",
              "24782  No Hate and Offensive  \n",
              "\n",
              "[24783 rows x 2 columns]"
            ]
          },
          "execution_count": 13,
          "metadata": {},
          "output_type": "execute_result"
        }
      ],
      "source": [
        "data = data[[\"tweet\", \"labels\"]]\n",
        "data\n"
      ]
    },
    {
      "cell_type": "code",
      "execution_count": 14,
      "metadata": {
        "colab": {
          "base_uri": "https://localhost:8080/"
        },
        "id": "Nij1EviMfZWz",
        "outputId": "644b31ea-a231-446a-a13e-e08bf6adf114"
      },
      "outputs": [
        {
          "name": "stderr",
          "output_type": "stream",
          "text": [
            "[nltk_data] Downloading package stopwords to /home/helina/nltk_data...\n",
            "[nltk_data]   Unzipping corpora/stopwords.zip.\n"
          ]
        },
        {
          "data": {
            "text/plain": [
              "True"
            ]
          },
          "execution_count": 14,
          "metadata": {},
          "output_type": "execute_result"
        }
      ],
      "source": [
        "nltk.download('stopwords')"
      ]
    },
    {
      "cell_type": "code",
      "execution_count": 15,
      "metadata": {
        "id": "F7FBh-_6dIMR"
      },
      "outputs": [],
      "source": [
        "porter_stemmer = PorterStemmer()\n",
        "words = \"english\"\n",
        "stemmed_words = [porter_stemmer.stem(word) for word in words]\n",
        "stopword = set(stopwords.words(words))"
      ]
    },
    {
      "cell_type": "code",
      "execution_count": 16,
      "metadata": {
        "id": "ShzglOH_dNBk"
      },
      "outputs": [],
      "source": [
        "def clean(text):\n",
        "    text = str(text).lower()\n",
        "    text = re.sub('\\[.*?\\]', '', text)\n",
        "    text = re.sub('https?://\\S+|www\\.\\S+', '', text)\n",
        "    text = re.sub('<.*?>+', '', text)\n",
        "    text = re.sub('[%s]' % re.escape(string.punctuation), '', text)\n",
        "    text = re.sub('\\n', '', text)\n",
        "    text = re.sub('\\w*\\d\\w*', '', text)\n",
        "    text = [word for word in text.split(' ') if word not in stopword]\n",
        "    text=\" \".join(text)\n",
        "    text = [stemmer.stem(word) for word in text.split(' ')]\n",
        "    text=\" \".join(text)\n",
        "    return text\n",
        "data[\"tweet\"] = data[\"tweet\"].apply(clean)"
      ]
    },
    {
      "cell_type": "code",
      "execution_count": 17,
      "metadata": {
        "id": "v3tHDichhjpU"
      },
      "outputs": [],
      "source": [
        "tfidf_vectorizer = TfidfVectorizer(max_features=5000, stop_words='english')"
      ]
    },
    {
      "cell_type": "code",
      "execution_count": 18,
      "metadata": {
        "id": "VC-4phfJhlY4"
      },
      "outputs": [],
      "source": [
        "x = np.array(data[\"tweet\"])\n",
        "y = np.array(data[\"labels\"])\n",
        "\n",
        "cv = CountVectorizer()\n",
        "X = cv.fit_transform(x) # Fit the Data\n",
        "X_train, X_test, y_train, y_test = train_test_split(X, y, test_size=0.33, random_state=42)"
      ]
    },
    {
      "cell_type": "markdown",
      "metadata": {
        "id": "Cx4UAdpRsKOF"
      },
      "source": [
        "\n",
        "\n",
        "\n",
        "\n",
        "\n",
        " **DecisionTree**"
      ]
    },
    {
      "cell_type": "code",
      "execution_count": 19,
      "metadata": {
        "colab": {
          "base_uri": "https://localhost:8080/",
          "height": 75
        },
        "id": "qZr2HwkfdPhc",
        "outputId": "e42552b5-790e-4228-f226-0762e0d8b34b"
      },
      "outputs": [
        {
          "data": {
            "text/html": [
              "<style>#sk-container-id-1 {\n",
              "  /* Definition of color scheme common for light and dark mode */\n",
              "  --sklearn-color-text: black;\n",
              "  --sklearn-color-line: gray;\n",
              "  /* Definition of color scheme for unfitted estimators */\n",
              "  --sklearn-color-unfitted-level-0: #fff5e6;\n",
              "  --sklearn-color-unfitted-level-1: #f6e4d2;\n",
              "  --sklearn-color-unfitted-level-2: #ffe0b3;\n",
              "  --sklearn-color-unfitted-level-3: chocolate;\n",
              "  /* Definition of color scheme for fitted estimators */\n",
              "  --sklearn-color-fitted-level-0: #f0f8ff;\n",
              "  --sklearn-color-fitted-level-1: #d4ebff;\n",
              "  --sklearn-color-fitted-level-2: #b3dbfd;\n",
              "  --sklearn-color-fitted-level-3: cornflowerblue;\n",
              "\n",
              "  /* Specific color for light theme */\n",
              "  --sklearn-color-text-on-default-background: var(--sg-text-color, var(--theme-code-foreground, var(--jp-content-font-color1, black)));\n",
              "  --sklearn-color-background: var(--sg-background-color, var(--theme-background, var(--jp-layout-color0, white)));\n",
              "  --sklearn-color-border-box: var(--sg-text-color, var(--theme-code-foreground, var(--jp-content-font-color1, black)));\n",
              "  --sklearn-color-icon: #696969;\n",
              "\n",
              "  @media (prefers-color-scheme: dark) {\n",
              "    /* Redefinition of color scheme for dark theme */\n",
              "    --sklearn-color-text-on-default-background: var(--sg-text-color, var(--theme-code-foreground, var(--jp-content-font-color1, white)));\n",
              "    --sklearn-color-background: var(--sg-background-color, var(--theme-background, var(--jp-layout-color0, #111)));\n",
              "    --sklearn-color-border-box: var(--sg-text-color, var(--theme-code-foreground, var(--jp-content-font-color1, white)));\n",
              "    --sklearn-color-icon: #878787;\n",
              "  }\n",
              "}\n",
              "\n",
              "#sk-container-id-1 {\n",
              "  color: var(--sklearn-color-text);\n",
              "}\n",
              "\n",
              "#sk-container-id-1 pre {\n",
              "  padding: 0;\n",
              "}\n",
              "\n",
              "#sk-container-id-1 input.sk-hidden--visually {\n",
              "  border: 0;\n",
              "  clip: rect(1px 1px 1px 1px);\n",
              "  clip: rect(1px, 1px, 1px, 1px);\n",
              "  height: 1px;\n",
              "  margin: -1px;\n",
              "  overflow: hidden;\n",
              "  padding: 0;\n",
              "  position: absolute;\n",
              "  width: 1px;\n",
              "}\n",
              "\n",
              "#sk-container-id-1 div.sk-dashed-wrapped {\n",
              "  border: 1px dashed var(--sklearn-color-line);\n",
              "  margin: 0 0.4em 0.5em 0.4em;\n",
              "  box-sizing: border-box;\n",
              "  padding-bottom: 0.4em;\n",
              "  background-color: var(--sklearn-color-background);\n",
              "}\n",
              "\n",
              "#sk-container-id-1 div.sk-container {\n",
              "  /* jupyter's `normalize.less` sets `[hidden] { display: none; }`\n",
              "     but bootstrap.min.css set `[hidden] { display: none !important; }`\n",
              "     so we also need the `!important` here to be able to override the\n",
              "     default hidden behavior on the sphinx rendered scikit-learn.org.\n",
              "     See: https://github.com/scikit-learn/scikit-learn/issues/21755 */\n",
              "  display: inline-block !important;\n",
              "  position: relative;\n",
              "}\n",
              "\n",
              "#sk-container-id-1 div.sk-text-repr-fallback {\n",
              "  display: none;\n",
              "}\n",
              "\n",
              "div.sk-parallel-item,\n",
              "div.sk-serial,\n",
              "div.sk-item {\n",
              "  /* draw centered vertical line to link estimators */\n",
              "  background-image: linear-gradient(var(--sklearn-color-text-on-default-background), var(--sklearn-color-text-on-default-background));\n",
              "  background-size: 2px 100%;\n",
              "  background-repeat: no-repeat;\n",
              "  background-position: center center;\n",
              "}\n",
              "\n",
              "/* Parallel-specific style estimator block */\n",
              "\n",
              "#sk-container-id-1 div.sk-parallel-item::after {\n",
              "  content: \"\";\n",
              "  width: 100%;\n",
              "  border-bottom: 2px solid var(--sklearn-color-text-on-default-background);\n",
              "  flex-grow: 1;\n",
              "}\n",
              "\n",
              "#sk-container-id-1 div.sk-parallel {\n",
              "  display: flex;\n",
              "  align-items: stretch;\n",
              "  justify-content: center;\n",
              "  background-color: var(--sklearn-color-background);\n",
              "  position: relative;\n",
              "}\n",
              "\n",
              "#sk-container-id-1 div.sk-parallel-item {\n",
              "  display: flex;\n",
              "  flex-direction: column;\n",
              "}\n",
              "\n",
              "#sk-container-id-1 div.sk-parallel-item:first-child::after {\n",
              "  align-self: flex-end;\n",
              "  width: 50%;\n",
              "}\n",
              "\n",
              "#sk-container-id-1 div.sk-parallel-item:last-child::after {\n",
              "  align-self: flex-start;\n",
              "  width: 50%;\n",
              "}\n",
              "\n",
              "#sk-container-id-1 div.sk-parallel-item:only-child::after {\n",
              "  width: 0;\n",
              "}\n",
              "\n",
              "/* Serial-specific style estimator block */\n",
              "\n",
              "#sk-container-id-1 div.sk-serial {\n",
              "  display: flex;\n",
              "  flex-direction: column;\n",
              "  align-items: center;\n",
              "  background-color: var(--sklearn-color-background);\n",
              "  padding-right: 1em;\n",
              "  padding-left: 1em;\n",
              "}\n",
              "\n",
              "\n",
              "/* Toggleable style: style used for estimator/Pipeline/ColumnTransformer box that is\n",
              "clickable and can be expanded/collapsed.\n",
              "- Pipeline and ColumnTransformer use this feature and define the default style\n",
              "- Estimators will overwrite some part of the style using the `sk-estimator` class\n",
              "*/\n",
              "\n",
              "/* Pipeline and ColumnTransformer style (default) */\n",
              "\n",
              "#sk-container-id-1 div.sk-toggleable {\n",
              "  /* Default theme specific background. It is overwritten whether we have a\n",
              "  specific estimator or a Pipeline/ColumnTransformer */\n",
              "  background-color: var(--sklearn-color-background);\n",
              "}\n",
              "\n",
              "/* Toggleable label */\n",
              "#sk-container-id-1 label.sk-toggleable__label {\n",
              "  cursor: pointer;\n",
              "  display: block;\n",
              "  width: 100%;\n",
              "  margin-bottom: 0;\n",
              "  padding: 0.5em;\n",
              "  box-sizing: border-box;\n",
              "  text-align: center;\n",
              "}\n",
              "\n",
              "#sk-container-id-1 label.sk-toggleable__label-arrow:before {\n",
              "  /* Arrow on the left of the label */\n",
              "  content: \"▸\";\n",
              "  float: left;\n",
              "  margin-right: 0.25em;\n",
              "  color: var(--sklearn-color-icon);\n",
              "}\n",
              "\n",
              "#sk-container-id-1 label.sk-toggleable__label-arrow:hover:before {\n",
              "  color: var(--sklearn-color-text);\n",
              "}\n",
              "\n",
              "/* Toggleable content - dropdown */\n",
              "\n",
              "#sk-container-id-1 div.sk-toggleable__content {\n",
              "  max-height: 0;\n",
              "  max-width: 0;\n",
              "  overflow: hidden;\n",
              "  text-align: left;\n",
              "  /* unfitted */\n",
              "  background-color: var(--sklearn-color-unfitted-level-0);\n",
              "}\n",
              "\n",
              "#sk-container-id-1 div.sk-toggleable__content.fitted {\n",
              "  /* fitted */\n",
              "  background-color: var(--sklearn-color-fitted-level-0);\n",
              "}\n",
              "\n",
              "#sk-container-id-1 div.sk-toggleable__content pre {\n",
              "  margin: 0.2em;\n",
              "  border-radius: 0.25em;\n",
              "  color: var(--sklearn-color-text);\n",
              "  /* unfitted */\n",
              "  background-color: var(--sklearn-color-unfitted-level-0);\n",
              "}\n",
              "\n",
              "#sk-container-id-1 div.sk-toggleable__content.fitted pre {\n",
              "  /* unfitted */\n",
              "  background-color: var(--sklearn-color-fitted-level-0);\n",
              "}\n",
              "\n",
              "#sk-container-id-1 input.sk-toggleable__control:checked~div.sk-toggleable__content {\n",
              "  /* Expand drop-down */\n",
              "  max-height: 200px;\n",
              "  max-width: 100%;\n",
              "  overflow: auto;\n",
              "}\n",
              "\n",
              "#sk-container-id-1 input.sk-toggleable__control:checked~label.sk-toggleable__label-arrow:before {\n",
              "  content: \"▾\";\n",
              "}\n",
              "\n",
              "/* Pipeline/ColumnTransformer-specific style */\n",
              "\n",
              "#sk-container-id-1 div.sk-label input.sk-toggleable__control:checked~label.sk-toggleable__label {\n",
              "  color: var(--sklearn-color-text);\n",
              "  background-color: var(--sklearn-color-unfitted-level-2);\n",
              "}\n",
              "\n",
              "#sk-container-id-1 div.sk-label.fitted input.sk-toggleable__control:checked~label.sk-toggleable__label {\n",
              "  background-color: var(--sklearn-color-fitted-level-2);\n",
              "}\n",
              "\n",
              "/* Estimator-specific style */\n",
              "\n",
              "/* Colorize estimator box */\n",
              "#sk-container-id-1 div.sk-estimator input.sk-toggleable__control:checked~label.sk-toggleable__label {\n",
              "  /* unfitted */\n",
              "  background-color: var(--sklearn-color-unfitted-level-2);\n",
              "}\n",
              "\n",
              "#sk-container-id-1 div.sk-estimator.fitted input.sk-toggleable__control:checked~label.sk-toggleable__label {\n",
              "  /* fitted */\n",
              "  background-color: var(--sklearn-color-fitted-level-2);\n",
              "}\n",
              "\n",
              "#sk-container-id-1 div.sk-label label.sk-toggleable__label,\n",
              "#sk-container-id-1 div.sk-label label {\n",
              "  /* The background is the default theme color */\n",
              "  color: var(--sklearn-color-text-on-default-background);\n",
              "}\n",
              "\n",
              "/* On hover, darken the color of the background */\n",
              "#sk-container-id-1 div.sk-label:hover label.sk-toggleable__label {\n",
              "  color: var(--sklearn-color-text);\n",
              "  background-color: var(--sklearn-color-unfitted-level-2);\n",
              "}\n",
              "\n",
              "/* Label box, darken color on hover, fitted */\n",
              "#sk-container-id-1 div.sk-label.fitted:hover label.sk-toggleable__label.fitted {\n",
              "  color: var(--sklearn-color-text);\n",
              "  background-color: var(--sklearn-color-fitted-level-2);\n",
              "}\n",
              "\n",
              "/* Estimator label */\n",
              "\n",
              "#sk-container-id-1 div.sk-label label {\n",
              "  font-family: monospace;\n",
              "  font-weight: bold;\n",
              "  display: inline-block;\n",
              "  line-height: 1.2em;\n",
              "}\n",
              "\n",
              "#sk-container-id-1 div.sk-label-container {\n",
              "  text-align: center;\n",
              "}\n",
              "\n",
              "/* Estimator-specific */\n",
              "#sk-container-id-1 div.sk-estimator {\n",
              "  font-family: monospace;\n",
              "  border: 1px dotted var(--sklearn-color-border-box);\n",
              "  border-radius: 0.25em;\n",
              "  box-sizing: border-box;\n",
              "  margin-bottom: 0.5em;\n",
              "  /* unfitted */\n",
              "  background-color: var(--sklearn-color-unfitted-level-0);\n",
              "}\n",
              "\n",
              "#sk-container-id-1 div.sk-estimator.fitted {\n",
              "  /* fitted */\n",
              "  background-color: var(--sklearn-color-fitted-level-0);\n",
              "}\n",
              "\n",
              "/* on hover */\n",
              "#sk-container-id-1 div.sk-estimator:hover {\n",
              "  /* unfitted */\n",
              "  background-color: var(--sklearn-color-unfitted-level-2);\n",
              "}\n",
              "\n",
              "#sk-container-id-1 div.sk-estimator.fitted:hover {\n",
              "  /* fitted */\n",
              "  background-color: var(--sklearn-color-fitted-level-2);\n",
              "}\n",
              "\n",
              "/* Specification for estimator info (e.g. \"i\" and \"?\") */\n",
              "\n",
              "/* Common style for \"i\" and \"?\" */\n",
              "\n",
              ".sk-estimator-doc-link,\n",
              "a:link.sk-estimator-doc-link,\n",
              "a:visited.sk-estimator-doc-link {\n",
              "  float: right;\n",
              "  font-size: smaller;\n",
              "  line-height: 1em;\n",
              "  font-family: monospace;\n",
              "  background-color: var(--sklearn-color-background);\n",
              "  border-radius: 1em;\n",
              "  height: 1em;\n",
              "  width: 1em;\n",
              "  text-decoration: none !important;\n",
              "  margin-left: 1ex;\n",
              "  /* unfitted */\n",
              "  border: var(--sklearn-color-unfitted-level-1) 1pt solid;\n",
              "  color: var(--sklearn-color-unfitted-level-1);\n",
              "}\n",
              "\n",
              ".sk-estimator-doc-link.fitted,\n",
              "a:link.sk-estimator-doc-link.fitted,\n",
              "a:visited.sk-estimator-doc-link.fitted {\n",
              "  /* fitted */\n",
              "  border: var(--sklearn-color-fitted-level-1) 1pt solid;\n",
              "  color: var(--sklearn-color-fitted-level-1);\n",
              "}\n",
              "\n",
              "/* On hover */\n",
              "div.sk-estimator:hover .sk-estimator-doc-link:hover,\n",
              ".sk-estimator-doc-link:hover,\n",
              "div.sk-label-container:hover .sk-estimator-doc-link:hover,\n",
              ".sk-estimator-doc-link:hover {\n",
              "  /* unfitted */\n",
              "  background-color: var(--sklearn-color-unfitted-level-3);\n",
              "  color: var(--sklearn-color-background);\n",
              "  text-decoration: none;\n",
              "}\n",
              "\n",
              "div.sk-estimator.fitted:hover .sk-estimator-doc-link.fitted:hover,\n",
              ".sk-estimator-doc-link.fitted:hover,\n",
              "div.sk-label-container:hover .sk-estimator-doc-link.fitted:hover,\n",
              ".sk-estimator-doc-link.fitted:hover {\n",
              "  /* fitted */\n",
              "  background-color: var(--sklearn-color-fitted-level-3);\n",
              "  color: var(--sklearn-color-background);\n",
              "  text-decoration: none;\n",
              "}\n",
              "\n",
              "/* Span, style for the box shown on hovering the info icon */\n",
              ".sk-estimator-doc-link span {\n",
              "  display: none;\n",
              "  z-index: 9999;\n",
              "  position: relative;\n",
              "  font-weight: normal;\n",
              "  right: .2ex;\n",
              "  padding: .5ex;\n",
              "  margin: .5ex;\n",
              "  width: min-content;\n",
              "  min-width: 20ex;\n",
              "  max-width: 50ex;\n",
              "  color: var(--sklearn-color-text);\n",
              "  box-shadow: 2pt 2pt 4pt #999;\n",
              "  /* unfitted */\n",
              "  background: var(--sklearn-color-unfitted-level-0);\n",
              "  border: .5pt solid var(--sklearn-color-unfitted-level-3);\n",
              "}\n",
              "\n",
              ".sk-estimator-doc-link.fitted span {\n",
              "  /* fitted */\n",
              "  background: var(--sklearn-color-fitted-level-0);\n",
              "  border: var(--sklearn-color-fitted-level-3);\n",
              "}\n",
              "\n",
              ".sk-estimator-doc-link:hover span {\n",
              "  display: block;\n",
              "}\n",
              "\n",
              "/* \"?\"-specific style due to the `<a>` HTML tag */\n",
              "\n",
              "#sk-container-id-1 a.estimator_doc_link {\n",
              "  float: right;\n",
              "  font-size: 1rem;\n",
              "  line-height: 1em;\n",
              "  font-family: monospace;\n",
              "  background-color: var(--sklearn-color-background);\n",
              "  border-radius: 1rem;\n",
              "  height: 1rem;\n",
              "  width: 1rem;\n",
              "  text-decoration: none;\n",
              "  /* unfitted */\n",
              "  color: var(--sklearn-color-unfitted-level-1);\n",
              "  border: var(--sklearn-color-unfitted-level-1) 1pt solid;\n",
              "}\n",
              "\n",
              "#sk-container-id-1 a.estimator_doc_link.fitted {\n",
              "  /* fitted */\n",
              "  border: var(--sklearn-color-fitted-level-1) 1pt solid;\n",
              "  color: var(--sklearn-color-fitted-level-1);\n",
              "}\n",
              "\n",
              "/* On hover */\n",
              "#sk-container-id-1 a.estimator_doc_link:hover {\n",
              "  /* unfitted */\n",
              "  background-color: var(--sklearn-color-unfitted-level-3);\n",
              "  color: var(--sklearn-color-background);\n",
              "  text-decoration: none;\n",
              "}\n",
              "\n",
              "#sk-container-id-1 a.estimator_doc_link.fitted:hover {\n",
              "  /* fitted */\n",
              "  background-color: var(--sklearn-color-fitted-level-3);\n",
              "}\n",
              "</style><div id=\"sk-container-id-1\" class=\"sk-top-container\"><div class=\"sk-text-repr-fallback\"><pre>DecisionTreeClassifier()</pre><b>In a Jupyter environment, please rerun this cell to show the HTML representation or trust the notebook. <br />On GitHub, the HTML representation is unable to render, please try loading this page with nbviewer.org.</b></div><div class=\"sk-container\" hidden><div class=\"sk-item\"><div class=\"sk-estimator fitted sk-toggleable\"><input class=\"sk-toggleable__control sk-hidden--visually\" id=\"sk-estimator-id-1\" type=\"checkbox\" checked><label for=\"sk-estimator-id-1\" class=\"sk-toggleable__label fitted sk-toggleable__label-arrow fitted\">&nbsp;&nbsp;DecisionTreeClassifier<a class=\"sk-estimator-doc-link fitted\" rel=\"noreferrer\" target=\"_blank\" href=\"https://scikit-learn.org/1.4/modules/generated/sklearn.tree.DecisionTreeClassifier.html\">?<span>Documentation for DecisionTreeClassifier</span></a><span class=\"sk-estimator-doc-link fitted\">i<span>Fitted</span></span></label><div class=\"sk-toggleable__content fitted\"><pre>DecisionTreeClassifier()</pre></div> </div></div></div></div>"
            ],
            "text/plain": [
              "DecisionTreeClassifier()"
            ]
          },
          "execution_count": 19,
          "metadata": {},
          "output_type": "execute_result"
        }
      ],
      "source": [
        "\n",
        "DecisionTree = DecisionTreeClassifier()\n",
        "DecisionTree.fit(X_train,y_train)"
      ]
    },
    {
      "cell_type": "code",
      "execution_count": 20,
      "metadata": {
        "colab": {
          "base_uri": "https://localhost:8080/"
        },
        "id": "A2PkVw5hgC8t",
        "outputId": "23b16095-2757-4779-c97d-eb1de47107cc"
      },
      "outputs": [
        {
          "name": "stdout",
          "output_type": "stream",
          "text": [
            "['No Hate and Offensive']\n"
          ]
        }
      ],
      "source": [
        "sample = \"i hate you \"\n",
        "data = cv.transform([sample]).toarray()\n",
        "pre = DecisionTree.predict(data)\n",
        "print(pre)"
      ]
    },
    {
      "cell_type": "code",
      "execution_count": 21,
      "metadata": {
        "id": "0Ibl0B6zinx8"
      },
      "outputs": [],
      "source": [
        "dt_predictions = DecisionTree.predict(X_test)"
      ]
    },
    {
      "cell_type": "code",
      "execution_count": 23,
      "metadata": {
        "colab": {
          "base_uri": "https://localhost:8080/"
        },
        "id": "L69I-kKbgaFS",
        "outputId": "f379c765-113a-4be1-d7ca-03e6185566cd"
      },
      "outputs": [
        {
          "name": "stdout",
          "output_type": "stream",
          "text": [
            "\n",
            "DecisionTree:\n",
            "Accuracy: 0.87467905611933\n",
            "Classification Report:\n",
            "                        precision    recall  f1-score   support\n",
            "\n",
            "          Hate Speech       0.37      0.34      0.35       465\n",
            "No Hate and Offensive       0.81      0.81      0.81      1379\n",
            "   Offensive Language       0.92      0.93      0.93      6335\n",
            "\n",
            "             accuracy                           0.87      8179\n",
            "            macro avg       0.70      0.69      0.70      8179\n",
            "         weighted avg       0.87      0.87      0.87      8179\n",
            "\n",
            "Confusion Matrix:\n",
            " [[ 156   38  271]\n",
            " [  33 1113  233]\n",
            " [ 229  221 5885]]\n"
          ]
        }
      ],
      "source": [
        "print(\"\\nDecisionTree:\")\n",
        "print(\"Accuracy:\", accuracy_score(y_test,dt_predictions))\n",
        "print(\"Classification Report:\\n\", classification_report(y_test,dt_predictions))\n",
        "print(\"Confusion Matrix:\\n\", confusion_matrix(y_test,dt_predictions))\n",
        "conf_matrix = confusion_matrix(y_test,dt_predictions)"
      ]
    },
    {
      "cell_type": "code",
      "execution_count": 24,
      "metadata": {
        "colab": {
          "base_uri": "https://localhost:8080/",
          "height": 564
        },
        "id": "JPuRUYWZmxzg",
        "outputId": "11707a8a-2fec-4c97-a888-9b24d26be729"
      },
      "outputs": [
        {
          "data": {
            "image/png": "[encoded data removed]",
            "text/plain": [
              "<Figure size 800x600 with 2 Axes>"
            ]
          },
          "metadata": {},
          "output_type": "display_data"
        }
      ],
      "source": [
        "plt.figure(figsize=(8, 6))\n",
        "sns.heatmap(conf_matrix, annot=True, fmt='d', cmap='Blues', xticklabels=['Non-Hate', 'Hate'], yticklabels=['Non-Hate', 'Hate'])\n",
        "plt.title('Confusion Matrix')\n",
        "plt.xlabel('Predicted')\n",
        "plt.ylabel('Actual')\n",
        "plt.show()\n"
      ]
    },
    {
      "cell_type": "markdown",
      "metadata": {
        "id": "hkEN5JZZspXl"
      },
      "source": [
        "**SVM**"
      ]
    },
    {
      "cell_type": "code",
      "execution_count": 25,
      "metadata": {
        "id": "J0Zhb-KGsrO2"
      },
      "outputs": [],
      "source": [
        "svm_classifier = SVC(kernel='linear')\n",
        "svm_classifier.fit(X_train,y_train)\n",
        "svm_predictions = svm_classifier.predict(X_test)"
      ]
    },
    {
      "cell_type": "code",
      "execution_count": 26,
      "metadata": {
        "colab": {
          "base_uri": "https://localhost:8080/"
        },
        "id": "WE6bV_P3s3HM",
        "outputId": "7e848e49-5072-40ad-e4c2-7cf040834133"
      },
      "outputs": [
        {
          "name": "stdout",
          "output_type": "stream",
          "text": [
            "['Offensive Language']\n"
          ]
        }
      ],
      "source": [
        "sample = \"i will hate you \"\n",
        "data = cv.transform([sample]).toarray()\n",
        "pre = svm_classifier.predict(data)\n",
        "print(pre)"
      ]
    },
    {
      "cell_type": "code",
      "execution_count": 27,
      "metadata": {
        "id": "hYIRK8eWveQ3"
      },
      "outputs": [],
      "source": [
        "svm_predictions = svm_classifier.predict(X_test)"
      ]
    },
    {
      "cell_type": "code",
      "execution_count": 28,
      "metadata": {
        "colab": {
          "base_uri": "https://localhost:8080/"
        },
        "id": "hBm1UrqbvXDS",
        "outputId": "87cc5b87-614d-4a38-dd79-257026758cdd"
      },
      "outputs": [
        {
          "name": "stdout",
          "output_type": "stream",
          "text": [
            "\n",
            "SVM:\n",
            "Accuracy: 0.8883726616945837\n",
            "Classification Report:\n",
            "                        precision    recall  f1-score   support\n",
            "\n",
            "          Hate Speech       0.42      0.31      0.35       465\n",
            "No Hate and Offensive       0.83      0.83      0.83      1379\n",
            "   Offensive Language       0.93      0.94      0.93      6335\n",
            "\n",
            "             accuracy                           0.89      8179\n",
            "            macro avg       0.73      0.69      0.71      8179\n",
            "         weighted avg       0.88      0.89      0.88      8179\n",
            "\n",
            "Confusion Matrix:\n",
            " [[ 143   36  286]\n",
            " [  36 1145  198]\n",
            " [ 163  194 5978]]\n"
          ]
        }
      ],
      "source": [
        "print(\"\\nSVM:\")\n",
        "print(\"Accuracy:\", accuracy_score(y_test,svm_predictions))\n",
        "print(\"Classification Report:\\n\", classification_report(y_test,svm_predictions))\n",
        "print(\"Confusion Matrix:\\n\", confusion_matrix(y_test,svm_predictions))\n",
        "svm_conf_matrix = confusion_matrix(y_test,svm_predictions)"
      ]
    },
    {
      "cell_type": "code",
      "execution_count": 29,
      "metadata": {
        "colab": {
          "base_uri": "https://localhost:8080/",
          "height": 564
        },
        "id": "LfsxwhzUs9HK",
        "outputId": "6662a273-7605-40ff-e1ee-62618316b684"
      },
      "outputs": [
        {
          "data": {
            "image/png": "[encoded data removed]",
            "text/plain": [
              "<Figure size 800x600 with 2 Axes>"
            ]
          },
          "metadata": {},
          "output_type": "display_data"
        }
      ],
      "source": [
        "plt.figure(figsize=(8, 6))\n",
        "sns.heatmap(svm_conf_matrix, annot=True, fmt='d', cmap='Blues', xticklabels=['Non-Hate', 'Hate'], yticklabels=['Non-Hate', 'Hate'])\n",
        "plt.title('Confusion Matrix')\n",
        "plt.xlabel('Predicted')\n",
        "plt.ylabel('Actual')\n",
        "plt.show()"
      ]
    },
    {
      "cell_type": "markdown",
      "metadata": {
        "id": "shBzaWritVzu"
      },
      "source": [
        "**Random Forest**"
      ]
    },
    {
      "cell_type": "code",
      "execution_count": 30,
      "metadata": {
        "id": "vkKqcH4btbL1"
      },
      "outputs": [],
      "source": [
        "rf_classifier = RandomForestClassifier(n_estimators=100, random_state=42)\n",
        "rf_classifier.fit(X_train,y_train)\n",
        "rf_predictions = rf_classifier.predict(X_test)"
      ]
    },
    {
      "cell_type": "code",
      "execution_count": 38,
      "metadata": {
        "colab": {
          "base_uri": "https://localhost:8080/"
        },
        "id": "Vgq5vuy5tpBh",
        "outputId": "8d93551c-163a-401e-f68d-862925dfd3a2"
      },
      "outputs": [
        {
          "name": "stdout",
          "output_type": "stream",
          "text": [
            "Offensive Language\n"
          ]
        }
      ],
      "source": [
        "sample = \"i will hate you \"\n",
        "data = cv.transform([sample]).toarray()\n",
        "preRF = rf_classifier.predict(data)\n",
        "print(pre[0])"
      ]
    },
    {
      "cell_type": "code",
      "execution_count": 32,
      "metadata": {
        "id": "KEG811AFwUg8"
      },
      "outputs": [],
      "source": [
        "rf_predictions = rf_classifier.predict(X_test)"
      ]
    },
    {
      "cell_type": "code",
      "execution_count": 33,
      "metadata": {
        "colab": {
          "base_uri": "https://localhost:8080/"
        },
        "id": "QBje43mTwKKu",
        "outputId": "cb9f8f7c-70c6-4253-c2d9-d0b7e63c0a4a"
      },
      "outputs": [
        {
          "name": "stdout",
          "output_type": "stream",
          "text": [
            "\n",
            "Random Forest:\n",
            "Accuracy: 0.8908179484044504\n",
            "Classification Report:\n",
            "                        precision    recall  f1-score   support\n",
            "\n",
            "          Hate Speech       0.48      0.25      0.33       465\n",
            "No Hate and Offensive       0.83      0.82      0.83      1379\n",
            "   Offensive Language       0.92      0.95      0.94      6335\n",
            "\n",
            "             accuracy                           0.89      8179\n",
            "            macro avg       0.74      0.67      0.70      8179\n",
            "         weighted avg       0.88      0.89      0.88      8179\n",
            "\n"
          ]
        }
      ],
      "source": [
        "print(\"\\nRandom Forest:\")\n",
        "print(\"Accuracy:\", accuracy_score(y_test,rf_predictions))\n",
        "print(\"Classification Report:\\n\", classification_report(y_test,rf_predictions))\n",
        "rf_conf_matrix = confusion_matrix(y_test,rf_predictions)"
      ]
    },
    {
      "cell_type": "code",
      "execution_count": 34,
      "metadata": {
        "colab": {
          "base_uri": "https://localhost:8080/",
          "height": 564
        },
        "id": "crmwQjQOvDvV",
        "outputId": "44bff189-7216-460a-be31-8699c6e2d508"
      },
      "outputs": [
        {
          "data": {
            "image/png": "[encoded data removed]",
            "text/plain": [
              "<Figure size 800x600 with 2 Axes>"
            ]
          },
          "metadata": {},
          "output_type": "display_data"
        }
      ],
      "source": [
        "plt.figure(figsize=(8, 6))\n",
        "sns.heatmap(rf_conf_matrix, annot=True, fmt='d', cmap='Blues', xticklabels=['Non-Hate', 'Hate'], yticklabels=['Non-Hate', 'Hate'])\n",
        "plt.title('Confusion Matrix')\n",
        "plt.xlabel('Predicted')\n",
        "plt.ylabel('Actual')\n",
        "plt.show()\n"
      ]
    },
    {
      "cell_type": "code",
      "execution_count": 69,
      "metadata": {
        "colab": {
          "base_uri": "https://localhost:8080/",
          "height": 391
        },
        "id": "oipkGkSJxDhx",
        "outputId": "91fc4343-3120-4563-a9e7-91af1cef4720"
      },
      "outputs": [
        {
          "name": "stderr",
          "output_type": "stream",
          "text": [
            "ALSA lib pcm.c:2664:(snd_pcm_open_noupdate) Unknown PCM cards.pcm.rear\n",
            "ALSA lib pcm.c:2664:(snd_pcm_open_noupdate) Unknown PCM cards.pcm.center_lfe\n",
            "ALSA lib pcm.c:2664:(snd_pcm_open_noupdate) Unknown PCM cards.pcm.side\n",
            "ALSA lib pcm_route.c:877:(find_matching_chmap) Found no matching channel map\n",
            "ALSA lib pcm_route.c:877:(find_matching_chmap) Found no matching channel map\n",
            "ALSA lib pcm_route.c:877:(find_matching_chmap) Found no matching channel map\n",
            "ALSA lib pcm_route.c:877:(find_matching_chmap) Found no matching channel map\n",
            "ALSA lib pcm_oss.c:397:(_snd_pcm_oss_open) Cannot open device /dev/dsp\n",
            "ALSA lib pcm_oss.c:397:(_snd_pcm_oss_open) Cannot open device /dev/dsp\n",
            "ALSA lib confmisc.c:160:(snd_config_get_card) Invalid field card\n",
            "ALSA lib pcm_usb_stream.c:482:(_snd_pcm_usb_stream_open) Invalid card 'card'\n",
            "ALSA lib confmisc.c:160:(snd_config_get_card) Invalid field card\n",
            "ALSA lib pcm_usb_stream.c:482:(_snd_pcm_usb_stream_open) Invalid card 'card'\n",
            "ALSA lib pcm.c:2664:(snd_pcm_open_noupdate) Unknown PCM cards.pcm.rear\n",
            "ALSA lib pcm.c:2664:(snd_pcm_open_noupdate) Unknown PCM cards.pcm.center_lfe\n",
            "ALSA lib pcm.c:2664:(snd_pcm_open_noupdate) Unknown PCM cards.pcm.side\n",
            "ALSA lib pcm_route.c:877:(find_matching_chmap) Found no matching channel map\n",
            "ALSA lib pcm_route.c:877:(find_matching_chmap) Found no matching channel map\n",
            "ALSA lib pcm_route.c:877:(find_matching_chmap) Found no matching channel map\n",
            "ALSA lib pcm_route.c:877:(find_matching_chmap) Found no matching channel map\n",
            "ALSA lib pcm_oss.c:397:(_snd_pcm_oss_open) Cannot open device /dev/dsp\n",
            "ALSA lib pcm_oss.c:397:(_snd_pcm_oss_open) Cannot open device /dev/dsp\n",
            "ALSA lib confmisc.c:160:(snd_config_get_card) Invalid field card\n",
            "ALSA lib pcm_usb_stream.c:482:(_snd_pcm_usb_stream_open) Invalid card 'card'\n",
            "ALSA lib confmisc.c:160:(snd_config_get_card) Invalid field card\n",
            "ALSA lib pcm_usb_stream.c:482:(_snd_pcm_usb_stream_open) Invalid card 'card'\n"
          ]
        },
        {
          "name": "stdout",
          "output_type": "stream",
          "text": [
            "Speak now\n",
            "You said: I'm going to kill you\n",
            "['No Hate and Offensive']\n"
          ]
        },
        {
          "data": {
            "text/html": [
              "\n",
              "                <audio  controls=\"controls\" autoplay=\"autoplay\">\n",
              "                    <source src=\"data:audio/mpeg;base64,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\" type=\"audio/mpeg\" />\n",
              "                    Your browser does not support the audio element.\n",
              "                </audio>\n",
              "              "
            ],
            "text/plain": [
              "<IPython.lib.display.Audio object>"
            ]
          },
          "metadata": {},
          "output_type": "display_data"
        }
      ],
      "source": [
        "# prompt: hear voice to text\n",
        "\n",
        "import speech_recognition as sr\n",
        "\n",
        "# Create a Speech Recognition object\n",
        "r = sr.Recognizer()\n",
        "\n",
        "# Use the microphone as the audio source\n",
        "mic = sr.Microphone()\n",
        "\n",
        "# Start listening\n",
        "with mic as source:\n",
        "    print(\"Speak now\")\n",
        "    audio = r.listen(source)\n",
        "\n",
        "# Try to recognize the speech\n",
        "try:\n",
        "    text = r.recognize_google(audio)\n",
        "    print(\"You said: {}\".format(text))\n",
        "except sr.UnknownValueError:\n",
        "    print(\"Could not understand audio\") \n",
        "except sr.RequestError as e:\n",
        "    print(\"Could not request results from Google Speech Recognition service; {0}\".format(e))\n",
        "\n",
        "text = cv.transform([text]).toarray()\n",
        "text = rf_classifier.predict(text)\n",
        "print(text)\n",
        "text_to_speak = text[0]\n",
        "\n",
        "# Create a gTTS object\n",
        "tts = gTTS(text=text_to_speak, lang='en', slow=False)\n",
        "\n",
        "# Save the audio to a file (optional)\n",
        "tts.save(\"output_audio.mp3\")\n",
        "\n",
        "# Play the audio in the Colab notebook\n",
        "display(Audio(\"output_audio.mp3\", autoplay=True))\n",
        "\n",
        "\n"
      ]
    }
  ],
  "metadata": {
    "colab": {
      "provenance": []
    },
    "kernelspec": {
      "display_name": "Python 3",
      "name": "python3"
    },
    "language_info": {
      "codemirror_mode": {
        "name": "ipython",
        "version": 3
      },
      "file_extension": ".py",
      "mimetype": "text/x-python",
      "name": "python",
      "nbconvert_exporter": "python",
      "pygments_lexer": "ipython3",
      "version": "3.10.12"
    }
  },
  "nbformat": 4,
  "nbformat_minor": 0
}
